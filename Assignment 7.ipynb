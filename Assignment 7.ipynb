{
 "cells": [
  {
   "cell_type": "markdown",
   "id": "082603f2-0050-4fbb-8f81-2627a5586d90",
   "metadata": {},
   "source": [
    "## Q1. Create a function which will take a list as an argument and return the product of all the numbers after creating a flat list.\n",
    "## Use the below-given list as an argument for your function.\n",
    "## list1 = [1,2,3,4, [44,55,66, True], False, (34,56,78,89,34), {1,2,3,3,2,1}, {1:34, \"key2\": [55, 67, 78, 89], 4: (45, 22, 61, 34)}, [56, 'data science'], 'Machine Learning']"
   ]
  },
  {
   "cell_type": "code",
   "execution_count": 3,
   "id": "eac51970-97d8-4cc0-92b9-f7ec50424e58",
   "metadata": {},
   "outputs": [],
   "source": [
    "list1 = [1,2,3,4, [44,55,66, True], False, (34,56,78,89,34), {1,2,3,3,2,1}, {1:34, \"key2\": [55, 67, 78, 89], 4: (45,\n",
    "22, 61, 34)}, [56, 'data science'], 'Machine Learning']"
   ]
  },
  {
   "cell_type": "code",
   "execution_count": 14,
   "id": "1b85fdb9-7179-4402-9173-0ee0b234f469",
   "metadata": {},
   "outputs": [],
   "source": [
    "def flat(l):\n",
    "    if type(l)==list:\n",
    "        flat_list=[]\n",
    "        for i in l:\n",
    "            if type(i)==int or type(i)==float:\n",
    "                flat_list.append(i)\n",
    "            elif type(i)==list:\n",
    "                for j in i:\n",
    "                    if type(j)==int or type(j)==float:\n",
    "                        flat_list.append(j)\n",
    "            elif type (i)==tuple:\n",
    "                for k in i:\n",
    "                    if type(k)==int or type(k)== float:\n",
    "                        flat_list.append(k)\n",
    "            elif type(i)==dict:\n",
    "                for h in i.keys():\n",
    "                    if type(h)== int or type(h)==float:\n",
    "                        flat_list.append(h)\n",
    "                for t in i.values():\n",
    "                    if type(t)==int or type(t)==float:\n",
    "                        flat_list.append(t)\n",
    "                    if type(t)==list or type(t)==tuple or type(t)==set:\n",
    "                        for r in t:\n",
    "                            flat_list.append(r)\n",
    "            elif type(i)==set:\n",
    "                for n in l:\n",
    "                    if type(n)==int or type(n)==float:\n",
    "                        flat_list.append(n)\n",
    "            else:\n",
    "                None\n",
    "    print(\"flat_list=\",flat_list)\n",
    "    P=1\n",
    "    for m in flat_list:\n",
    "        P=P*m\n",
    "    \n",
    "    return P    "
   ]
  },
  {
   "cell_type": "code",
   "execution_count": 15,
   "id": "f1b2c295-9a75-45cf-bea4-589f1d8bd09c",
   "metadata": {},
   "outputs": [
    {
     "name": "stdout",
     "output_type": "stream",
     "text": [
      "flat_list= [1, 2, 3, 4, 44, 55, 66, 34, 56, 78, 89, 34, 1, 2, 3, 4, 1, 4, 34, 55, 67, 78, 89, 45, 22, 61, 34, 56]\n"
     ]
    },
    {
     "data": {
      "text/plain": [
       "16538847355948341915335364968448000"
      ]
     },
     "execution_count": 15,
     "metadata": {},
     "output_type": "execute_result"
    }
   ],
   "source": [
    "flat(list1)"
   ]
  },
  {
   "cell_type": "markdown",
   "id": "2e66bf4e-2579-4708-9136-feb00fa90bf1",
   "metadata": {},
   "source": [
    "## Q2. Write a python program for encrypting a message sent to you by your friend. The logic of encryption should be such that, for a the output should be z. For b, the output should be y. For c, the output should be x respectively. Also, the whitespace should be replaced with a dollar sign. Keep the punctuation marks unchanged.\n",
    "## Input Sentence: I want to become a Data Scientist.\n",
    "## Encrypt the above input sentence using the program you just created."
   ]
  },
  {
   "cell_type": "code",
   "execution_count": 34,
   "id": "05c318b6-d808-408c-8e78-140d4425046d",
   "metadata": {},
   "outputs": [],
   "source": [
    "Input_Sentence=\"I want to become a Data Scientist.\"\n",
    "input_sentence=Input_Sentence.lower()"
   ]
  },
  {
   "cell_type": "code",
   "execution_count": 52,
   "id": "ccc9719c-e812-4eea-8b91-5ecd3c7c7d00",
   "metadata": {},
   "outputs": [],
   "source": [
    "alphabet=\"abcdefghijklmnopqrstuvwxyz\"\n",
    "r_alpha=list(reversed(alphabet))"
   ]
  },
  {
   "cell_type": "code",
   "execution_count": 53,
   "id": "15aa31bc-060e-495a-ae50-dbae62fed50b",
   "metadata": {},
   "outputs": [
    {
     "data": {
      "text/plain": [
       "['z',\n",
       " 'y',\n",
       " 'x',\n",
       " 'w',\n",
       " 'v',\n",
       " 'u',\n",
       " 't',\n",
       " 's',\n",
       " 'r',\n",
       " 'q',\n",
       " 'p',\n",
       " 'o',\n",
       " 'n',\n",
       " 'm',\n",
       " 'l',\n",
       " 'k',\n",
       " 'j',\n",
       " 'i',\n",
       " 'h',\n",
       " 'g',\n",
       " 'f',\n",
       " 'e',\n",
       " 'd',\n",
       " 'c',\n",
       " 'b',\n",
       " 'a']"
      ]
     },
     "execution_count": 53,
     "metadata": {},
     "output_type": "execute_result"
    }
   ],
   "source": [
    "r_alpha"
   ]
  },
  {
   "cell_type": "code",
   "execution_count": 30,
   "id": "78309c2a-2e39-4a53-a032-28df499adead",
   "metadata": {},
   "outputs": [],
   "source": [
    "alpha=r_alpha[::-1]"
   ]
  },
  {
   "cell_type": "code",
   "execution_count": 31,
   "id": "3c77214e-86a9-4e52-806e-c4056e442e79",
   "metadata": {},
   "outputs": [
    {
     "data": {
      "text/plain": [
       "['a',\n",
       " 'b',\n",
       " 'c',\n",
       " 'd',\n",
       " 'e',\n",
       " 'f',\n",
       " 'g',\n",
       " 'h',\n",
       " 'i',\n",
       " 'j',\n",
       " 'k',\n",
       " 'l',\n",
       " 'm',\n",
       " 'n',\n",
       " 'o',\n",
       " 'p',\n",
       " 'q',\n",
       " 'r',\n",
       " 's',\n",
       " 't',\n",
       " 'u',\n",
       " 'v',\n",
       " 'w',\n",
       " 'x',\n",
       " 'y',\n",
       " 'z']"
      ]
     },
     "execution_count": 31,
     "metadata": {},
     "output_type": "execute_result"
    }
   ],
   "source": [
    "alpha"
   ]
  },
  {
   "cell_type": "code",
   "execution_count": 56,
   "id": "668d5f39-17be-4759-92f3-382a55655ed1",
   "metadata": {},
   "outputs": [
    {
     "name": "stdout",
     "output_type": "stream",
     "text": [
      "['r', '$', 'd', 'z', 'm', 'g', '$', 'g', 'l', '$', 'y', 'v', 'x', 'l', 'n', 'v', '$', 'z', '$', 'w', 'z', 'g', 'z', '$', 'h', 'x', 'r', 'v', 'm', 'g', 'r', 'h', 'g', '.']\n"
     ]
    }
   ],
   "source": [
    "encrypt_list=[]\n",
    "for i in input_sentence:\n",
    "        if i.isalnum():\n",
    "            for j in range(26):\n",
    "                if i==alpha[j]:\n",
    "                    encrypt_list.append(r_alpha[j])\n",
    "        elif i==\" \":\n",
    "            encrypt_list.append(\"$\")\n",
    "        elif i==\".\" or i==\"?\" or i==\"!\":\n",
    "            encrypt_list.append(i)\n",
    "\n",
    "print( encrypt_list)            \n",
    "            \n",
    "        \n",
    "    "
   ]
  },
  {
   "cell_type": "code",
   "execution_count": 62,
   "id": "f1a66507-1a78-4f5f-ab02-f12ac3c874ee",
   "metadata": {},
   "outputs": [
    {
     "name": "stdout",
     "output_type": "stream",
     "text": [
      "encrypt_sentence= r$dzmg$gl$yvxlnv$z$wzgz$hxrvmgrhg.\n"
     ]
    }
   ],
   "source": [
    "encrypt_sentence=\"\"\n",
    "for i in encrypt_list:\n",
    "    encrypt_sentence+=i\n",
    "print(\"encrypt_sentence=\",encrypt_sentence)    \n",
    "    "
   ]
  },
  {
   "cell_type": "code",
   "execution_count": null,
   "id": "b3021185-5860-4e28-95ac-766afed62156",
   "metadata": {},
   "outputs": [],
   "source": []
  }
 ],
 "metadata": {
  "kernelspec": {
   "display_name": "Python 3 (ipykernel)",
   "language": "python",
   "name": "python3"
  },
  "language_info": {
   "codemirror_mode": {
    "name": "ipython",
    "version": 3
   },
   "file_extension": ".py",
   "mimetype": "text/x-python",
   "name": "python",
   "nbconvert_exporter": "python",
   "pygments_lexer": "ipython3",
   "version": "3.10.8"
  }
 },
 "nbformat": 4,
 "nbformat_minor": 5
}
